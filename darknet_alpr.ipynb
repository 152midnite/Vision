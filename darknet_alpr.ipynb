{
  "nbformat": 4,
  "nbformat_minor": 0,
  "metadata": {
    "colab": {
      "name": "darknet_alpr",
      "version": "0.3.2",
      "provenance": [],
      "collapsed_sections": []
    },
    "kernelspec": {
      "name": "python2",
      "display_name": "Python 2"
    }
  },
  "cells": [
    {
      "cell_type": "code",
      "metadata": {
        "id": "icXQ5XBzVe7O",
        "colab_type": "code",
        "outputId": "1be0adc0-31d7-41d3-b70c-1d3c825b980a",
        "colab": {
          "base_uri": "https://localhost:8080/",
          "height": 34
        }
      },
      "source": [
        "!git clone https://github.com/sergiomsilva/alpr-unconstrained"
      ],
      "execution_count": 0,
      "outputs": [
        {
          "output_type": "stream",
          "text": [
            "fatal: destination path 'alpr-unconstrained' already exists and is not an empty directory.\n"
          ],
          "name": "stdout"
        }
      ]
    },
    {
      "cell_type": "code",
      "metadata": {
        "id": "Q9_Al4cmVgSR",
        "colab_type": "code",
        "colab": {}
      },
      "source": [
        "!cd alpr-unconstrained && cd darknet && make"
      ],
      "execution_count": 0,
      "outputs": []
    },
    {
      "cell_type": "code",
      "metadata": {
        "id": "NbmyCz57VthC",
        "colab_type": "code",
        "colab": {}
      },
      "source": [
        "!cd alpr-unconstrained && bash get-networks.sh"
      ],
      "execution_count": 0,
      "outputs": []
    },
    {
      "cell_type": "code",
      "metadata": {
        "id": "0PGAjGyDw4Hb",
        "colab_type": "code",
        "colab": {}
      },
      "source": [
        "from google.colab import drive\n",
        "drive.mount('/content/drive')\n",
        "!tar -xvf /content/drive/My\\ Drive/Vision/jpgplates.tar.gz\n"
      ],
      "execution_count": 0,
      "outputs": []
    },
    {
      "cell_type": "code",
      "metadata": {
        "id": "tV_9oA9tyAte",
        "colab_type": "code",
        "colab": {}
      },
      "source": [
        "!cd alpr-unconstrained && bash get-networks.sh && bash run.sh -i ../jpg_primary_car_plates -o ../output_alpr -c /tmp/output/results.csv"
      ],
      "execution_count": 0,
      "outputs": []
    },
    {
      "cell_type": "code",
      "metadata": {
        "id": "KqMZCy3iycrk",
        "colab_type": "code",
        "colab": {}
      },
      "source": [
        "!mkdir output_alpr/\n",
        "!tar -zcvf /content/drive/My\\ Drive/Vision/outalpr.tar output_alpr"
      ],
      "execution_count": 0,
      "outputs": []
    },
    {
      "cell_type": "code",
      "metadata": {
        "id": "nQQUTLdhydU7",
        "colab_type": "code",
        "colab": {}
      },
      "source": [
        "!ls output_alpr"
      ],
      "execution_count": 0,
      "outputs": []
    },
    {
      "cell_type": "code",
      "metadata": {
        "id": "5hvUH_eE8ueL",
        "colab_type": "code",
        "outputId": "b4231d21-5590-4efe-a78b-633ba6ceda2b",
        "colab": {
          "base_uri": "https://localhost:8080/",
          "height": 119
        }
      },
      "source": [
        "!ls"
      ],
      "execution_count": 0,
      "outputs": [
        {
          "output_type": "stream",
          "text": [
            "alpr-unconstrained\n",
            "drive\n",
            "jpg_primary_car_plates\n",
            "outcut\n",
            "output_alpr\n",
            "us-license-plates-psd-badge-label-mark-design-template.jpg\n"
          ],
          "name": "stdout"
        }
      ]
    }
  ]
}