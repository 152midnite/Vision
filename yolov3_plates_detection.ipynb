{
  "nbformat": 4,
  "nbformat_minor": 0,
  "metadata": {
    "colab": {
      "name": "yolov3 - plates detection.ipynb",
      "version": "0.3.2",
      "provenance": []
    },
    "kernelspec": {
      "name": "python3",
      "display_name": "Python 3"
    }
  },
  "cells": [
    {
      "cell_type": "code",
      "metadata": {
        "id": "ZqRXQ8AfU6ET",
        "colab_type": "code",
        "colab": {}
      },
      "source": [
        "!pip install tensorflow-gpu==1.13.1\n",
        "!pip install -U keras opencv-python\n",
        "!pip3 install imageai --upgrade"
      ],
      "execution_count": 0,
      "outputs": []
    },
    {
      "cell_type": "code",
      "metadata": {
        "id": "4FETl5C8Hxrg",
        "colab_type": "code",
        "outputId": "8105b65f-40a3-4151-e788-220517b175b3",
        "colab": {
          "base_uri": "https://localhost:8080/",
          "height": 34
        }
      },
      "source": [
        "from google.colab import drive\n",
        "drive.mount('/content/drive')"
      ],
      "execution_count": 0,
      "outputs": [
        {
          "output_type": "stream",
          "text": [
            "Drive already mounted at /content/drive; to attempt to forcibly remount, call drive.mount(\"/content/drive\", force_remount=True).\n"
          ],
          "name": "stdout"
        }
      ]
    },
    {
      "cell_type": "code",
      "metadata": {
        "id": "2KfZ93M1Wgq5",
        "colab_type": "code",
        "colab": {}
      },
      "source": [
        "!cp /content/drive/My\\ Drive/Vision/detection_config2.99.json ./"
      ],
      "execution_count": 0,
      "outputs": []
    },
    {
      "cell_type": "code",
      "metadata": {
        "id": "n_JilDiiIH6A",
        "colab_type": "code",
        "colab": {}
      },
      "source": [
        "detection_model = 'detection_model-ex-05--loss-2.99.h5'\n",
        "!cp /content/drive/My\\ Drive/Vision/$detection_model ./"
      ],
      "execution_count": 0,
      "outputs": []
    },
    {
      "cell_type": "code",
      "metadata": {
        "id": "sVhEWGmzINr1",
        "colab_type": "code",
        "colab": {}
      },
      "source": [
        "!tar -xvf /content/drive/My\\ Drive/Vision/license_plates\n",
        "!rm -r sample_data"
      ],
      "execution_count": 0,
      "outputs": []
    },
    {
      "cell_type": "code",
      "metadata": {
        "id": "_H5IoIvYc5-Z",
        "colab_type": "code",
        "colab": {}
      },
      "source": [
        "!mkdir outcut"
      ],
      "execution_count": 0,
      "outputs": []
    },
    {
      "cell_type": "code",
      "metadata": {
        "id": "mGuOdvWxyEx4",
        "colab_type": "code",
        "colab": {}
      },
      "source": [
        ""
      ],
      "execution_count": 0,
      "outputs": []
    },
    {
      "cell_type": "code",
      "metadata": {
        "id": "8AoNiP0icJM0",
        "colab_type": "code",
        "outputId": "61f7d883-8da7-421a-84f8-eef37972174f",
        "colab": {
          "base_uri": "https://localhost:8080/",
          "height": 54
        }
      },
      "source": [
        "from glob import glob\n",
        "from PIL import Image\n",
        "license_plates = glob('plates/*.jpg')\n",
        "plates_names = [plate.split('/')[-1] for plate in license_plates]\n",
        "plates_names = [plate.split('.')[0] for plate in plates_names]\n",
        "print(plates_names)\n"
      ],
      "execution_count": 0,
      "outputs": [
        {
          "output_type": "stream",
          "text": [
            "['wts-lg-000186', 'test_037', 'OZG3580', 'test_060', 'test_073', 'PJC4903', 'PXP8172', 'OZU2104', 'wts-lg-000046', 'OUQ6314', 'wts-lg-000151', 'test_096', 'wts-lg-000089', 'wts-lg-000154', 'test_022', 'wts-lg-000075', 'wts-lg-000083', 'us6', 'PJI5396', 'MXQ1601', 'test_070', 'wts-lg-000037', 'wts-lg-000157', 'wts-lg-000051', 'test_006', 'OKS0078', 'wts-lg-000031', 'test_097', 'wts-lg-000102', 'test_095', 'OKK7448', 'test_057', 'NYZ0897', 'OZP8126', 'JPQ9870', 'wts-lg-000074', 'wts-lg-000174', 'car22', 'wts-lg-000097', 'wts-lg-000131', 'JRV1942', 'car2', 'wts-lg-000166', 'JIY4434', 'wts-lg-000098', 'test_030', 'test_018', 'test_068', 'wts-lg-000022', 'OUM7311', 'wts-lg-000044', 'AYO9034', 'wts-lg-000043', 'test_087', '0b86cecf-67d1-4fc0-87c9-b36b0ee228bb', 'test_065', 'us5', 'test_085', 'wts-lg-000192', 'test_039', 'wts-lg-000040', '12c6cb72-3ea3-49e7-b381-e0cdfc5e8960', 'PJP2783', 'test_051', 'JGZ3298', 'test_088', 'test_025', 'wts-lg-000080', 'wts-lg-000119', 'wts-lg-000045', 'OKP7250', 'PJI7589', 'test_041', 'test_040', 'test_008', 'test_011', 'NYI3834', 'wts-lg-000077', 'wts-lg-000036', 'test_071', 'test_042', 'wts-lg-000126', 'wts-lg-000124', 'wts-lg-000026', '3850ba91-3c64-4c64-acba-0c46b61ec0da', 'JSQ1413', 'car18', 'test_021', 'test_079', 'wts-lg-000162', 'wts-lg-000140', 'wts-lg-000136', 'PJY5472', 'd4f79480-366a-40b6-ab2c-328bcba705b2', 'wts-lg-000027', '1e241dc8-8f18-4955-8988-03a0ab49f813', 'wts-lg-000188', 'test_003', 'wts-lg-000172', 'test_054', 'test_048', 'PJX5721', 'us2', 'wts-lg-000135', 'wts-lg-000038', 'wts-lg-000062', 'wts-lg-000194', 'eu1', 'OKM2371', 'OZK4620', 'wts-lg-000101', '316b64c0-55bf-4079-a1c0-d93f461a576f', 'test_077', 'OKV8004', 'wts-lg-000150', 'test_024', 'car9-5', 'wts-lg-000011', 'PJV9741', 'test_031', 'wts-lg-000134', 'a03ced3f-5a97-4e75-8106-fabfd2b8b76e', 'PJI5921', 'car9-7', 'OZU5764', 'PJT4884', 'test_017', 'wts-lg-000084', 'wts-lg-000082', 'NZF0384', 'wts-lg-000058', 'wts-lg-000163', 'JQS5683', 'test_059', 'test_019', 'wts-lg-000143', 'wts-lg-000086', 'test_089', 'test_084', 'cfaa9dd2-a388-4e92-bb3a-ae65c28d8139', 'wts-lg-000053', 'PJU2207', 'wts-lg-000048', 'wts-lg-000152', 'car8', 'wts-lg-000072', 'wts-lg-000121', 'PJH0957', 'wts-lg-000047', 'OKM0944', 'OZK6717', 'test_044', 'wts-lg-000122', 'test_056', 'test_081', 'wts-lg-000181', 'PWC0633', 'NTO1053', 'test_061', 'car9-1', 'PUT6858', 'wts-lg-000066', 'wts-lg-000033', 'wts-lg-000085', 'wts-lg-000132', 'wts-lg-000175', 'wts-lg-000024', 'test_032', 'wts-lg-000164', 'wts-lg-000014', 'test_086', 'wts-lg-000060', 'car13', 'MTW5608', 'wts-lg-000035', 'test_007', 'wts-lg-000056', 'test_014', 'car16', '33fa5185-0286-4e8f-b775-46162eba39d4', 'OLC4728', 'OCX4764', 'wts-lg-000183', 'wts-lg-000055', 'car9', 'wts-lg-000141', 'wts-lg-000073', 'OUP9563', 'wts-lg-000029', 'JQV5526', 'OYJ9557', 'car3', '5b562a61-34ad-4f00-9164-d34abb7a38e4', 'OLB4809', 'wts-lg-000016', 'PJB2414', 'test_058', 'wts-lg-000165', 'HPM9362', 'JIT7463', 'test_013', 'NZO6276', 'wts-lg-000128', 'OLC7676', 'wts-lg-000090', 'car9-9', 'NZW2197', 'test_064', 'test_062', 'wts-lg-000032', 'PJT2905', 'test_043', 'test_010', 'test_094', 'wts-lg-000096', 'c9368c55-210d-456c-a5ef-c310e60039ec', 'car9-2', 'eu11', 'wts-lg-000057', 'NZF7823', 'wts-lg-000144', 'wts-lg-000169', 'eu6', 'PJB7392', 'car9-0', 'GWT2180', 'us10', 'test_050', 'wts-lg-000139', 'car11', 'wts-lg-000078', 'car12', 'test_002', 'PAG5219', 'wts-lg-000076', 'NZM5430', 'wts-lg-000049', 'NYL3614', 'test_063', 'wts-lg-000149', 'ODJ1599', 'eu4', 'car21', 'PJF4224', 'ODC9387', 'wts-lg-000068', 'wts-lg-000127', 'FZB9581', 'test_020', 'PJD2685', 'wts-lg-000025', 'test_091', 'wts-lg-000052', 'wts-lg-000087', 'wts-lg-000020', 'wts-lg-000130', 'wts-lg-000034', 'PJJ4955', 'wts-lg-000199', 'wts-lg-000088', 'f8fc5e59-9083-466b-ae3f-6b869a0b257b', 'wts-lg-000137', 'wts-lg-000147', 'test_078', 'car6', 'car15', 'wts-lg-000158', 'wts-lg-000064', 'eu10', 'wts-lg-000190', 'wts-lg-000091', 'test_026', 'wts-lg-000039', 'us1', '7fbfbe28-aecb-45be-bd05-7cf26acb3c5c', 'us4', 'PYB6477', 'PVX0095', 'PJK4867', 'wts-lg-000189', 'test_016', 'OVK3653', 'e73fd200-7ba4-4725-9d1d-2ec710864df6', 'eu8', 'test_069', 'test_033', 'wts-lg-000171', 'OEL1145', 'wts-lg-000018', 'car19', 'car5', 'test_034', 'eu2', 'test_074', 'wts-lg-000178', 'test_036', 'PWF3266', 'wts-lg-000167', 'OZV6697', '21d8c31d-3deb-494b-9c63-c0223306fd82', 'wts-lg-000125', '37170dd1-2802-4e38-b982-c5d07c64ff67', 'test_080', 'wts-lg-000021', 'NTH0518', 'wts-lg-000042', 'OVA1319', 'test_015', 'NTV0498', 'OKL1235', 'JOG9221', 'wts-lg-000113', 'wts-lg-000145', 'NZJ6581', 'test_092', 'test_009', 'NZP8292', 'wts-lg-000138', 'car9-4', 'OUN4297', 'wts-lg-000142', 'JSP7678', 'eu5', 'JSC7486', 'PJU2853', 'wts-lg-000118', 'us3', 'wts-lg-000070', 'NZU2673', 'wts-lg-000120', 'wts-lg-000160', 'wts-lg-000059', 'test_049', 'car17', 'eu7', 'wts-lg-000079', 'test_072', 'wts-lg-000177', 'wts-lg-000050', 'wts-lg-000133', 'test_075', 'JRK5336', 'wts-lg-000129', 'wts-lg-000094', 'wts-lg-000146', 'OUW5216', 'wts-lg-000156', 'test_076', 'OLE5095', 'test_066', 'car7', 'wts-lg-000061', 'wts-lg-000100', 'wts-lg-000193', 'wts-lg-000195', 'test_023', 'wts-lg-000012', 'JSK5419', 'wts-lg-000099', 'AZJ6991', 'test_053', 'NTD9247', 'OZC8400', 'JST2699', 'f0a3b8c0-198a-471b-9ca9-345c3dd28073', 'OKL0817', 'test_046', 'OZS6477', 'test_067', 'OKT3896', 'OZL2318', 'wts-lg-000148', 'wts-lg-000010', 'wts-lg-000013', 'eu3', 'test_045', 'wts-lg-000023', 'wts-lg-000065', 'test_083', 'wts-lg-000063', 'test_052', 'wts-lg-000041', 'wts-lg-000115', 'test_027', 'PJY8509', 'wts-lg-000168', 'wts-lg-000095', 'test_038', 'wts-lg-000017', 'wts-lg-000161', 'wts-lg-000179', 'test_028', 'OLA1208', 'wts-lg-000106', 'wts-lg-000069', 'wts-lg-000187', 'OUH9191', 'OUG6157', 'wts-lg-000155', 'test_012', 'test_029', 'JSG9648', 'wts-lg-000197', 'wts-lg-000159', '4be2025c-09f7-4bb0-b1bd-8e8633e6dec1', 'PJG0783', 'test_004', 'wts-lg-000196', 'test_082', 'NYM7544', 'wts-lg-000067', 'car20', 'car14', 'car1', 'test_047', 'PJJ1406', 'PJF5797', 'JRD2238', 'NTK5785', '22e54a62-57a8-4a0a-88c1-4b9758f67651', 'PJP8208', 'test_001', 'wts-lg-000123', 'test_093', 'test_055', 'wts-lg-000191', 'wts-lg-000176', 'us7', 'wts-lg-000173', 'test_035', 'test_005', 'OUZ2198', 'wts-lg-000030', 'wts-lg-000170', 'eu9', 'wts-lg-000117', 'NYY1710', 'OZR2224', 'wts-lg-000071', 'us8', 'OUP1442', 'MYX3152', 'test_090', 'wts-lg-000028']\n"
          ],
          "name": "stdout"
        }
      ]
    },
    {
      "cell_type": "code",
      "metadata": {
        "id": "yKIY79mAU-BC",
        "colab_type": "code",
        "colab": {}
      },
      "source": [
        "from imageai.Detection.Custom import CustomObjectDetection\n",
        "import matplotlib.pyplot as pyplot\n",
        "\n",
        "\n",
        "detector = CustomObjectDetection()\n",
        "detector.setModelTypeAsYOLOv3()\n",
        "detector.setModelPath(detection_model)\n",
        "detector.setJsonPath(\"detection_config2.99.json\")\n",
        "detector.loadModel()\n",
        "for picture in license_plates:\n",
        "    detections = detector.detectObjectsFromImage(input_image=picture, output_image_path='out/out_'+picture.split('/')[-1])\n",
        "    for detection in detections:\n",
        "        print(detection[\"name\"], \" : \", detection[\"percentage_probability\"], \" : \", detection[\"box_points\"])\n",
        "        img = Image.open(picture)\n",
        "        img.crop(detection[\"box_points\"]).save('outcut/outcut_'detection[\"percentage_probability\"][0:3]+'_'+picture.split('/')[-1])\n",
        "\n",
        "     "
      ],
      "execution_count": 0,
      "outputs": []
    },
    {
      "cell_type": "code",
      "metadata": {
        "id": "du4_73zlXa5p",
        "colab_type": "code",
        "colab": {}
      },
      "source": [
        "!mkdir out\n",
        "!ls"
      ],
      "execution_count": 0,
      "outputs": []
    },
    {
      "cell_type": "code",
      "metadata": {
        "id": "M7PYzRB5gxxX",
        "colab_type": "code",
        "colab": {}
      },
      "source": [
        "!tar -cvf /content/drive/My\\ Drive/Vision/outcut.tar outcut"
      ],
      "execution_count": 0,
      "outputs": []
    },
    {
      "cell_type": "code",
      "metadata": {
        "id": "F2O6mFC9oexz",
        "colab_type": "code",
        "colab": {}
      },
      "source": [
        ""
      ],
      "execution_count": 0,
      "outputs": []
    }
  ]
}